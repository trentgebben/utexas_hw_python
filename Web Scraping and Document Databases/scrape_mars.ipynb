{
 "cells": [
  {
   "cell_type": "code",
   "execution_count": 3,
   "metadata": {},
   "outputs": [],
   "source": [
    "import os\n",
    "from bs4 import BeautifulSoup\n",
    "import requests\n",
    "import pandas\n",
    "from splinter import Browser\n",
    "import time\n",
    "import shutil\n",
    "import re"
   ]
  },
  {
   "cell_type": "code",
   "execution_count": 4,
   "metadata": {},
   "outputs": [],
   "source": [
    "def scrape():\n",
    "\n",
    "    executable_path = {'executable_path': 'chromedriver.exe'}\n",
    "    browser = Browser('chrome', **executable_path, headless=False)\n",
    "\n",
    "    marsdata = {}\n",
    "\n",
    "    url = 'https://mars.nasa.gov/news/'\n",
    "    response = requests.get(url)\n",
    "    soup = BeautifulSoup(response.text, 'html.parser')\n",
    "    \n",
    "    # Print Title\n",
    "    news_title = soup.title.text\n",
    "    \n",
    "    # Print all paragraph texts\n",
    "    paragraphs = soup.find_all('p')\n",
    "    for paragraph in paragraphs:\n",
    "        print(paragraph.text)\n",
    "    news_p = paragraph.text\n",
    "    \n",
    "    # add our last news and last paraghraph to to Marse_data \n",
    "    marsdata[\"news_title\"] = news_title\n",
    "    marsdata[\"news_p\"] = news_p\n",
    "    \n",
    "    #Mars Image\n",
    "    url = 'https://www.jpl.nasa.gov/spaceimages/?search=&category=Mars'\n",
    "    browser.visit(url)\n",
    "    full_image = browser.find_by_id('full_image')\n",
    "    full_image.click()\n",
    "\n",
    "    browser.is_element_present_by_text('more info', wait_time=3)\n",
    "    info = browser.find_link_by_partial_text('more info')\n",
    "    info.click()\n",
    "\n",
    "    html =  browser.html\n",
    "\n",
    "    img = BeautifulSoup(html, 'html.parser')\n",
    "\n",
    "    marsdata[\"featured_image_url\"] = img.select_one('figure.lede a img').get('src')\n",
    "    \n",
    "    # Mars Weather\n",
    "    mars_weather=soup.find(string=re.compile(\"Sol\"))\n",
    "    marsdata[\"mars_weather\"] = mars_weather\n",
    "    \n",
    "    # Space Facts\n",
    "    url = 'https://space-facts.com/mars/'\n",
    "    browser.visit(url)\n",
    "    for i in browser.find_by_tag('td'):\n",
    "        i.text\n",
    "    head = []\n",
    "    data = []\n",
    "    for r in range(len(browser.find_by_tag('td'))):\n",
    "        if r % 2 == 0:\n",
    "            head.append(browser.find_by_tag('td')[r].text)\n",
    "        else:\n",
    "            data.append(browser.find_by_tag('td')[r].text)\n",
    "    mars_facts = list(zip(head,data))\n",
    "    marsdata[\"Mars_facts\"] = mars_facts\n",
    "\n",
    "    # Mars Hemispheres\n",
    "    url='https://astrogeology.usgs.gov/search/results?q=hemisphere+enhanced&k1=target&v1=Mars'\n",
    "    browser.visit(url)\n",
    "    links = ['Cerberus', 'Schiaparelli', 'Syrtis' , 'Valles']\n",
    "    hemisphere_image_urls=[]\n",
    "    links = ['Cerberus', 'Schiaparelli', 'Syrtis' , 'Valles']\n",
    "    hemisphere_image_urls=[]\n",
    "    for link in links:\n",
    "        hemisphere_image_urls_dic={}\n",
    "        link_click = browser.find_link_by_partial_text(link)\n",
    "        link_click.click()\n",
    "        time.sleep(15)\n",
    "    # `   browser.is_element_present_by_css(\"img.wide-image\", wait_time=10)\n",
    "        html = browser.html\n",
    "        soup = BeautifulSoup(html, 'html.parser')\n",
    "        image_url=soup.find(\"img\",class_=\"wide-image\")[\"src\"]\n",
    "        title=soup.find(\"h2\",class_=\"title\").text\n",
    "        if \"https://astrogeology.usgs.gov:\" not in image_url: image_url = \"https://astrogeology.usgs.gov\"+image_url\n",
    "        hemisphere_image_urls_dic['title'] = title\n",
    "        hemisphere_image_urls_dic['image_url']=image_url\n",
    "        hemisphere_image_urls.append(hemisphere_image_urls_dic)\n",
    "        browser.back()\n",
    "        marsdata[\"hemisphere_title_urls\"] = hemisphere_image_urls     \n",
    "        browser.quit()\n",
    "        return marsdata\n"
   ]
  },
  {
   "cell_type": "code",
   "execution_count": 5,
   "metadata": {},
   "outputs": [
    {
     "name": "stdout",
     "output_type": "stream",
     "text": [
      "Managed by the Mars Exploration Program and the Jet Propulsion Laboratory for NASA’s Science Mission Directorate\n"
     ]
    },
    {
     "data": {
      "text/plain": [
       "{'news_title': 'News  – NASA’s Mars Exploration Program ',\n",
       " 'news_p': 'Managed by the Mars Exploration Program and the Jet Propulsion Laboratory for NASA’s Science Mission Directorate',\n",
       " 'featured_image_url': '/spaceimages/images/largesize/PIA18905_hires.jpg',\n",
       " 'mars_weather': None,\n",
       " 'Mars_facts': [('Equatorial Diameter:', '6,792 km'),\n",
       "  ('Polar Diameter:', '6,752 km'),\n",
       "  ('Mass:', '6.42 x 10^23 kg (10.7% Earth)'),\n",
       "  ('Moons:', '2 (Phobos & Deimos)'),\n",
       "  ('Orbit Distance:', '227,943,824 km (1.52 AU)'),\n",
       "  ('Orbit Period:', '687 days (1.9 years)'),\n",
       "  ('Surface Temperature:', '-153 to 20 °C'),\n",
       "  ('First Record:', '2nd millennium BC'),\n",
       "  ('Recorded By:', 'Egyptian astronomers')],\n",
       " 'hemisphere_title_urls': [{'title': 'Cerberus Hemisphere Enhanced',\n",
       "   'image_url': 'https://astrogeology.usgs.gov/cache/images/cfa62af2557222a02478f1fcd781d445_cerberus_enhanced.tif_full.jpg'}]}"
      ]
     },
     "execution_count": 5,
     "metadata": {},
     "output_type": "execute_result"
    }
   ],
   "source": [
    "scrape()"
   ]
  }
 ],
 "metadata": {
  "kernelspec": {
   "display_name": "Python (pythondata)",
   "language": "python",
   "name": "pythondata"
  },
  "language_info": {
   "codemirror_mode": {
    "name": "ipython",
    "version": 3
   },
   "file_extension": ".py",
   "mimetype": "text/x-python",
   "name": "python",
   "nbconvert_exporter": "python",
   "pygments_lexer": "ipython3",
   "version": "3.6.5"
  }
 },
 "nbformat": 4,
 "nbformat_minor": 2
}
